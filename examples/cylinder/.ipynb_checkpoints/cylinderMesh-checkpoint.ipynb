{
 "cells": [
  {
   "cell_type": "code",
   "execution_count": 1,
   "id": "8a3d95a4-542c-4b69-83d7-a9c279b05288",
   "metadata": {},
   "outputs": [],
   "source": [
    "import ofblockmeshdicthelper as bmdh\n",
    "import numpy as np"
   ]
  },
  {
   "cell_type": "code",
   "execution_count": 2,
   "id": "823b449c-c8d8-4317-abd1-0b51dd644605",
   "metadata": {},
   "outputs": [],
   "source": [
    "bmd = bmdh.BlockMeshDict()"
   ]
  },
  {
   "cell_type": "code",
   "execution_count": 17,
   "id": "d68c7b10-f516-4512-9203-182aed1dd6f2",
   "metadata": {},
   "outputs": [],
   "source": [
    "R = 1 # radius of cylinder\n",
    "A = 0.25 # side of central square in cylinder\n",
    "L = 10 # Length of cylinder\n",
    "NA = 20\n",
    "NR2 = 20\n",
    "NL = 100\n",
    "cos45 = np.cos(np.pi/4)"
   ]
  },
  {
   "cell_type": "code",
   "execution_count": 18,
   "id": "aad25fbc-c6b7-4225-9a4f-db1dff24be8d",
   "metadata": {},
   "outputs": [
    {
     "data": {
      "text/plain": [
       "<ofblockmeshdicthelper.Vertex at 0x7f57540772e0>"
      ]
     },
     "execution_count": 18,
     "metadata": {},
     "output_type": "execute_result"
    }
   ],
   "source": [
    "bmd.add_vertex(A/cos45,-A/cos45,0,'v0i0')\n",
    "bmd.add_vertex(A/cos45,A/cos45,0,'v1i0')\n",
    "bmd.add_vertex(-A/cos45,A/cos45,0,'v2i0')\n",
    "bmd.add_vertex(-A/cos45,-A/cos45,0,'v3i0')\n",
    "bmd.add_vertex(R*cos45,-R*cos45,0,'v0e0')\n",
    "bmd.add_vertex(R*cos45,R*cos45,0,'v1e0')\n",
    "bmd.add_vertex(-R*cos45,R*cos45,0,'v2e0')\n",
    "bmd.add_vertex(-R*cos45,-R*cos45,0,'v3e0')\n",
    "bmd.add_vertex(A/cos45,-A/cos45,L,'v0iL')\n",
    "bmd.add_vertex(A/cos45,A/cos45,L,'v1iL')\n",
    "bmd.add_vertex(-A/cos45,A/cos45,L,'v2iL')\n",
    "bmd.add_vertex(-A/cos45,-A/cos45,L,'v3iL')\n",
    "bmd.add_vertex(R*cos45,-R*cos45,L,'v0eL')\n",
    "bmd.add_vertex(R*cos45,R*cos45,L,'v1eL')\n",
    "bmd.add_vertex(-R*cos45,R*cos45,L,'v2eL')\n",
    "bmd.add_vertex(-R*cos45,-R*cos45,L,'v3eL')"
   ]
  },
  {
   "cell_type": "code",
   "execution_count": 29,
   "id": "49710ee5-1d5a-4c2c-8880-c4ea20892a1e",
   "metadata": {},
   "outputs": [
    {
     "data": {
      "text/plain": [
       "<ofblockmeshdicthelper.ArcEdge at 0x7f5754077bb0>"
      ]
     },
     "execution_count": 29,
     "metadata": {},
     "output_type": "execute_result"
    }
   ],
   "source": [
    "bmd.add_arcedge(('v0e0','v1e0'),'a00',bmdh.Vertex(R,0,0,'V00'))\n",
    "bmd.add_arcedge(('v1e0','v2e0'),'a10',bmdh.Vertex(0,R,0,'V10'))\n",
    "bmd.add_arcedge(('v2e0','v3e0'),'a20',bmdh.Vertex(-R,0,0,'V20'))\n",
    "bmd.add_arcedge(('v3e0','v0e0'),'a30',bmdh.Vertex(0,-R,0,'V30'))\n",
    "bmd.add_arcedge(('v0eL','v1eL'),'a0L',bmdh.Vertex(R,0,L,'V0L'))\n",
    "bmd.add_arcedge(('v1eL','v2eL'),'a1L',bmdh.Vertex(0,R,L,'V1L'))\n",
    "bmd.add_arcedge(('v2eL','v3eL'),'a2L',bmdh.Vertex(-R,0,L,'V2L'))\n",
    "bmd.add_arcedge(('v3eL','v0eL'),'a3L',bmdh.Vertex(0,-R,L,'V3L'))"
   ]
  },
  {
   "cell_type": "code",
   "execution_count": 30,
   "id": "78112a74-0760-480e-b803-2458bf16293a",
   "metadata": {},
   "outputs": [
    {
     "data": {
      "text/plain": [
       "<ofblockmeshdicthelper.HexBlock at 0x7f5754085820>"
      ]
     },
     "execution_count": 30,
     "metadata": {},
     "output_type": "execute_result"
    }
   ],
   "source": [
    "bmd.add_hexblock(('v0i0','v1i0','v2i0','v3i0','v0iL','v1iL','v2iL','v3iL'),\n",
    "                 (NA,NA,NL),'bcentral',\n",
    "                 grading=bmdh.SimpleGrading(1,1,1))\n",
    "bmd.add_hexblock(('v0i0','v0e0','v1e0','v1i0','v0iL','v0eL','v1eL','v1iL'),\n",
    "                 (NR2,NA,NL),'be',\n",
    "                 grading=bmdh.SimpleGrading(1,1,1))\n",
    "bmd.add_hexblock(('v1i0','v1e0','v2e0','v2i0','v1iL','v1eL','v2eL','v2iL'),\n",
    "                 (NR2,NA,NL),'bn',\n",
    "                 grading=bmdh.SimpleGrading(1,1,1))\n",
    "bmd.add_hexblock(('v2i0','v2e0','v3e0','v3i0','v2iL','v2eL','v3eL','v3iL'),\n",
    "                 (NR2,NA,NL),'bw',\n",
    "                 grading=bmdh.SimpleGrading(1,1,1))\n",
    "bmd.add_hexblock(('v3i0','v3e0','v0e0','v0i0','v3iL','v3eL','v0eL','v0iL'),\n",
    "                 (NR2,NA,NL),'bs',\n",
    "                 grading=bmdh.SimpleGrading(1,1,1))"
   ]
  },
  {
   "cell_type": "code",
   "execution_count": 31,
   "id": "c1e5eaac-1e66-4be6-bc41-45096846f0ce",
   "metadata": {},
   "outputs": [],
   "source": [
    "bmd.assign_vertexid()"
   ]
  },
  {
   "cell_type": "code",
   "execution_count": 32,
   "id": "7d2e89d9-78e1-408f-b1df-d6d98784703a",
   "metadata": {},
   "outputs": [
    {
     "name": "stdout",
     "output_type": "stream",
     "text": [
      "/*--------------------------------*- C++ -*----------------------------------*\\\n",
      "| =========                 |                                                 |\n",
      "| \\\\      /  F ield         | OpenFOAM: The Open Source CFD Toolbox           |\n",
      "|  \\\\    /   O peration     | Version:  2.3.0                                 |\n",
      "|   \\\\  /    A nd           | Web:      www.OpenFOAM.org                      |\n",
      "|    \\\\/     M anipulation  |                                                 |\n",
      "\\*---------------------------------------------------------------------------*/\n",
      "FoamFile\n",
      "{\n",
      "    version     2.0;\n",
      "    format      ascii;\n",
      "    class       dictionary;\n",
      "    object      blockMeshDict;\n",
      "}\n",
      "// * * * * * * * * * * * * * * * * * * * * * * * * * * * * * * * * * * * * * //\n",
      "\n",
      "convertToMeters 1.0;\n",
      "\n",
      "vertices\n",
      "(\n",
      "    ( -0.707106781186548 -0.707106781186548                  0 )  // 0 v3e0\n",
      "    (  0.707106781186548 -0.707106781186548                  0 )  // 1 v0e0\n",
      "    ( -0.353553390593274 -0.353553390593274                  0 )  // 2 v3i0\n",
      "    (  0.353553390593274 -0.353553390593274                  0 )  // 3 v0i0\n",
      "    ( -0.353553390593274  0.353553390593274                  0 )  // 4 v2i0\n",
      "    (  0.353553390593274  0.353553390593274                  0 )  // 5 v1i0\n",
      "    ( -0.707106781186548  0.707106781186548                  0 )  // 6 v2e0\n",
      "    (  0.707106781186548  0.707106781186548                  0 )  // 7 v1e0\n",
      "    ( -0.707106781186548 -0.707106781186548                 10 )  // 8 v3eL\n",
      "    (  0.707106781186548 -0.707106781186548                 10 )  // 9 v0eL\n",
      "    ( -0.353553390593274 -0.353553390593274                 10 )  // 10 v3iL\n",
      "    (  0.353553390593274 -0.353553390593274                 10 )  // 11 v0iL\n",
      "    ( -0.353553390593274  0.353553390593274                 10 )  // 12 v2iL\n",
      "    (  0.353553390593274  0.353553390593274                 10 )  // 13 v1iL\n",
      "    ( -0.707106781186548  0.707106781186548                 10 )  // 14 v2eL\n",
      "    (  0.707106781186548  0.707106781186548                 10 )  // 15 v1eL\n",
      ");\n",
      "\n",
      "edges\n",
      "(\n",
      "  arc 1 7 (1.000000 0.000000 0.000000) // a00 (v0e0 v1e0)\n",
      "  arc 7 6 (0.000000 1.000000 0.000000) // a10 (v1e0 v2e0)\n",
      "  arc 6 0 (-1.000000 0.000000 0.000000) // a20 (v2e0 v3e0)\n",
      "  arc 0 1 (0.000000 -1.000000 0.000000) // a30 (v3e0 v0e0)\n",
      "  arc 9 15 (1.000000 0.000000 10.000000) // a0L (v0eL v1eL)\n",
      "  arc 15 14 (0.000000 1.000000 10.000000) // a1L (v1eL v2eL)\n",
      "  arc 14 8 (-1.000000 0.000000 10.000000) // a2L (v2eL v3eL)\n",
      "  arc 8 9 (0.000000 -1.000000 10.000000) // a3L (v3eL v0eL)\n",
      ");\n",
      "\n",
      "blocks\n",
      "(\n",
      "    hex (3 5 4 2 11 13 12 10) bcentral (20 20 100) simpleGrading (1 1 1)  // bcentral (v0i0 v1i0 v2i0 v3i0 v0iL v1iL v2iL v3iL)\n",
      "    hex (3 1 7 5 11 9 15 13) be (20 20 100) simpleGrading (1 1 1)  // be (v0i0 v0e0 v1e0 v1i0 v0iL v0eL v1eL v1iL)\n",
      "    hex (5 7 6 4 13 15 14 12) bn (20 20 100) simpleGrading (1 1 1)  // bn (v1i0 v1e0 v2e0 v2i0 v1iL v1eL v2eL v2iL)\n",
      "    hex (4 6 0 2 12 14 8 10) bw (20 20 100) simpleGrading (1 1 1)  // bw (v2i0 v2e0 v3e0 v3i0 v2iL v2eL v3eL v3iL)\n",
      "    hex (2 0 1 3 10 8 9 11) bs (20 20 100) simpleGrading (1 1 1)  // bs (v3i0 v3e0 v0e0 v0i0 v3iL v3eL v0eL v0iL)\n",
      ");\n",
      "\n",
      "boundary\n",
      "(\n",
      ");\n",
      "\n",
      "mergePatchPairs\n",
      "(\n",
      ");\n",
      "\n",
      "// ************************************************************************* //\n",
      "\n"
     ]
    }
   ],
   "source": [
    "print(bmd.format())"
   ]
  },
  {
   "cell_type": "code",
   "execution_count": 33,
   "id": "50a4d22b-dbe6-4afd-8de8-b9041aa45e5c",
   "metadata": {},
   "outputs": [],
   "source": [
    "print(bmd.format(),file=open(\"closedVolume/system/blockMeshDict\",mode='w'))"
   ]
  },
  {
   "cell_type": "code",
   "execution_count": null,
   "id": "66516f0f-7064-467d-8d71-8e14ad9af766",
   "metadata": {},
   "outputs": [],
   "source": []
  }
 ],
 "metadata": {
  "kernelspec": {
   "display_name": "Python 3 (ipykernel)",
   "language": "python",
   "name": "python3"
  },
  "language_info": {
   "codemirror_mode": {
    "name": "ipython",
    "version": 3
   },
   "file_extension": ".py",
   "mimetype": "text/x-python",
   "name": "python",
   "nbconvert_exporter": "python",
   "pygments_lexer": "ipython3",
   "version": "3.8.17"
  }
 },
 "nbformat": 4,
 "nbformat_minor": 5
}
