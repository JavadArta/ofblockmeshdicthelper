{
 "cells": [
  {
   "cell_type": "code",
   "execution_count": null,
   "id": "8a3d95a4-542c-4b69-83d7-a9c279b05288",
   "metadata": {},
   "outputs": [],
   "source": [
    "import ofblockmeshdicthelper as bmdh\n",
    "import numpy as np"
   ]
  },
  {
   "cell_type": "code",
   "execution_count": null,
   "id": "823b449c-c8d8-4317-abd1-0b51dd644605",
   "metadata": {},
   "outputs": [],
   "source": [
    "bmd = bmdh.BlockMeshDict()"
   ]
  },
  {
   "cell_type": "code",
   "execution_count": null,
   "id": "d68c7b10-f516-4512-9203-182aed1dd6f2",
   "metadata": {},
   "outputs": [],
   "source": [
    "R = 1 # radius of cylinder\n",
    "A = 0.25 # side of central square in cylinder\n",
    "L = 10 # Length of cylinder\n",
    "NA = 20\n",
    "NR2 = 20\n",
    "NL = 100\n",
    "cos45 = np.cos(np.pi/4)"
   ]
  },
  {
   "cell_type": "code",
   "execution_count": null,
   "id": "aad25fbc-c6b7-4225-9a4f-db1dff24be8d",
   "metadata": {},
   "outputs": [],
   "source": [
    "bmd.add_vertex(A/cos45,-A/cos45,0,'v0i0')\n",
    "bmd.add_vertex(A/cos45,A/cos45,0,'v1i0')\n",
    "bmd.add_vertex(-A/cos45,A/cos45,0,'v2i0')\n",
    "bmd.add_vertex(-A/cos45,-A/cos45,0,'v3i0')\n",
    "bmd.add_vertex(R*cos45,-R*cos45,0,'v0e0')\n",
    "bmd.add_vertex(R*cos45,R*cos45,0,'v1e0')\n",
    "bmd.add_vertex(-R*cos45,R*cos45,0,'v2e0')\n",
    "bmd.add_vertex(-R*cos45,-R*cos45,0,'v3e0')\n",
    "bmd.add_vertex(A/cos45,-A/cos45,L,'v0iL')\n",
    "bmd.add_vertex(A/cos45,A/cos45,L,'v1iL')\n",
    "bmd.add_vertex(-A/cos45,A/cos45,L,'v2iL')\n",
    "bmd.add_vertex(-A/cos45,-A/cos45,L,'v3iL')\n",
    "bmd.add_vertex(R*cos45,-R*cos45,L,'v0eL')\n",
    "bmd.add_vertex(R*cos45,R*cos45,L,'v1eL')\n",
    "bmd.add_vertex(-R*cos45,R*cos45,L,'v2eL')\n",
    "bmd.add_vertex(-R*cos45,-R*cos45,L,'v3eL')"
   ]
  },
  {
   "cell_type": "code",
   "execution_count": null,
   "id": "49710ee5-1d5a-4c2c-8880-c4ea20892a1e",
   "metadata": {},
   "outputs": [],
   "source": [
    "bmd.add_arcedge(('v0e0','v1e0'),'a00',bmdh.Vertex(R,0,0,'V00'))\n",
    "bmd.add_arcedge(('v1e0','v2e0'),'a10',bmdh.Vertex(0,R,0,'V10'))\n",
    "bmd.add_arcedge(('v2e0','v3e0'),'a20',bmdh.Vertex(-R,0,0,'V20'))\n",
    "bmd.add_arcedge(('v3e0','v0e0'),'a30',bmdh.Vertex(0,-R,0,'V30'))\n",
    "bmd.add_arcedge(('v0eL','v1eL'),'a0L',bmdh.Vertex(R,0,L,'V0L'))\n",
    "bmd.add_arcedge(('v1eL','v2eL'),'a1L',bmdh.Vertex(0,R,L,'V1L'))\n",
    "bmd.add_arcedge(('v2eL','v3eL'),'a2L',bmdh.Vertex(-R,0,L,'V2L'))\n",
    "bmd.add_arcedge(('v3eL','v0eL'),'a3L',bmdh.Vertex(0,-R,L,'V3L'))"
   ]
  },
  {
   "cell_type": "code",
   "execution_count": null,
   "id": "b5b5ac92-6540-4313-98de-cb36d38f7353",
   "metadata": {},
   "outputs": [],
   "source": [
    "bmd.add_hexblock?"
   ]
  },
  {
   "cell_type": "code",
   "execution_count": null,
   "id": "78112a74-0760-480e-b803-2458bf16293a",
   "metadata": {},
   "outputs": [],
   "source": [
    "bmd.add_hexblock(('v0i0','v1i0','v2i0','v3i0','v0iL','v1iL','v2iL','v3iL'),\n",
    "                 (NA,NA,NL),'bcentral', 'cylinder',\n",
    "                 grading=bmdh.SimpleGrading(1,1,1))\n",
    "bmd.add_hexblock(('v0i0','v0e0','v1e0','v1i0','v0iL','v0eL','v1eL','v1iL'),\n",
    "                 (NR2,NA,NL),'be', 'cylinder',\n",
    "                 grading=bmdh.SimpleGrading(1,1,1))\n",
    "bmd.add_hexblock(('v1i0','v1e0','v2e0','v2i0','v1iL','v1eL','v2eL','v2iL'),\n",
    "                 (NR2,NA,NL),'bn', 'cylinder',\n",
    "                 grading=bmdh.SimpleGrading(1,1,1))\n",
    "bmd.add_hexblock(('v2i0','v2e0','v3e0','v3i0','v2iL','v2eL','v3eL','v3iL'),\n",
    "                 (NR2,NA,NL),'bw', 'cylinder',\n",
    "                 grading=bmdh.SimpleGrading(1,1,1))\n",
    "bmd.add_hexblock(('v3i0','v3e0','v0e0','v0i0','v3iL','v3eL','v0eL','v0iL'),\n",
    "                 (NR2,NA,NL),'bs', 'cylinder',\n",
    "                 grading=bmdh.SimpleGrading(1,1,1))"
   ]
  },
  {
   "cell_type": "code",
   "execution_count": null,
   "id": "c1e5eaac-1e66-4be6-bc41-45096846f0ce",
   "metadata": {},
   "outputs": [],
   "source": [
    "bmd.assign_vertexid()"
   ]
  },
  {
   "cell_type": "code",
   "execution_count": null,
   "id": "7d2e89d9-78e1-408f-b1df-d6d98784703a",
   "metadata": {},
   "outputs": [],
   "source": [
    "print(bmd.format())"
   ]
  },
  {
   "cell_type": "code",
   "execution_count": null,
   "id": "50a4d22b-dbe6-4afd-8de8-b9041aa45e5c",
   "metadata": {},
   "outputs": [],
   "source": [
    "print(bmd.format(),file=open(\"system/blockMeshDict\",mode='w'))"
   ]
  }
 ],
 "metadata": {
  "kernelspec": {
   "display_name": "Python 3 (ipykernel)",
   "language": "python",
   "name": "python3"
  },
  "language_info": {
   "codemirror_mode": {
    "name": "ipython",
    "version": 3
   },
   "file_extension": ".py",
   "mimetype": "text/x-python",
   "name": "python",
   "nbconvert_exporter": "python",
   "pygments_lexer": "ipython3",
   "version": "3.8.17"
  }
 },
 "nbformat": 4,
 "nbformat_minor": 5
}
