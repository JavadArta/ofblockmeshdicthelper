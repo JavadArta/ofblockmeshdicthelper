{
 "cells": [
  {
   "cell_type": "markdown",
   "metadata": {},
   "source": [
    "# ofblockmeshdicthelper. Meshing simple geometry for an orifice plate\n",
    "***\n",
    "\n",
    "`ofblockmeshdicthelper` is a python library made by Takkaki Aoki, which can be downloaded from [github](https://github.com/takaakiaoki/ofblockmeshdicthelper.git) but, can be also very easily installed with\n",
    "\n",
    "    pip install ofblockmeshdicthelper\n",
    "    \n",
    "Or it can also downloaded from GitHub and installed (it will be then the latest version)\n",
    "\n",
    "Were are going to explore the pressure loss in an orifice plate. The real value is defined by the [ISO 5167](https://en.wikipedia.org/wiki/Orifice_plate), and the results from the simulation can be compared. The simulation will be done with a laminar steady (simpleFoam) axysimmetric simulation."
   ]
  },
  {
   "cell_type": "markdown",
   "metadata": {},
   "source": [
    "First we import the needed modules"
   ]
  },
  {
   "cell_type": "code",
   "execution_count": 19,
   "metadata": {},
   "outputs": [],
   "source": [
    "import numpy as np\n",
    "from ofblockmeshdicthelper import *"
   ]
  },
  {
   "cell_type": "markdown",
   "metadata": {},
   "source": [
    "Now we define the geometry and the discretization"
   ]
  },
  {
   "cell_type": "code",
   "execution_count": 20,
   "metadata": {},
   "outputs": [],
   "source": [
    "wedgeangle = 5\n",
    "r = 10\n",
    "ro = 5\n",
    "l1 = 70\n",
    "lo = 2.5\n",
    "l2 = 50\n",
    "deltax = 0.25\n",
    "deltay = 0.25\n",
    "Nx1 = np.int(l1/deltax)\n",
    "Nx2 = np.int(lo/deltax)\n",
    "Nx3 = np.int(l2/deltax)\n",
    "Ny1 = np.int(ro/deltay)\n",
    "Ny2 = np.int((r-ro)/deltay)"
   ]
  },
  {
   "cell_type": "markdown",
   "metadata": {},
   "source": [
    "Here an object of class `BlockMeshDict` is created (note that you can create many dictionaries"
   ]
  },
  {
   "cell_type": "code",
   "execution_count": 21,
   "metadata": {},
   "outputs": [],
   "source": [
    "bmd = BlockMeshDict()"
   ]
  },
  {
   "cell_type": "markdown",
   "metadata": {},
   "source": [
    "Define the scale (geometry has been typed in mm)"
   ]
  },
  {
   "cell_type": "code",
   "execution_count": 22,
   "metadata": {},
   "outputs": [],
   "source": [
    "bmd.set_metric('mm')"
   ]
  },
  {
   "cell_type": "markdown",
   "metadata": {},
   "source": [
    "Define the base vertex (there will be etruded to create the wedge)"
   ]
  },
  {
   "cell_type": "code",
   "execution_count": 23,
   "metadata": {},
   "outputs": [],
   "source": [
    "basevs = [\n",
    "    Vertex(0,0,0,'v0'),\n",
    "    Vertex(l1,0,0,'v1'),\n",
    "    Vertex(l1+lo,0,0,'v2'),\n",
    "    Vertex(l1+lo+l2,0,0,'v3'),\n",
    "    Vertex(l1+lo+l2,ro,0,'v4'),\n",
    "    Vertex(l1+lo+l2,r,0,'v5'),\n",
    "    Vertex(l1+lo,r,0,'v6'),\n",
    "    Vertex(l1+lo,ro,0,'v7'),\n",
    "    Vertex(l1,ro,0,'v8'),\n",
    "    Vertex(l1,r,0,'v9'),\n",
    "    Vertex(0,r,0,'v10'),\n",
    "    Vertex(0,ro,0,'v11'),\n",
    "]"
   ]
  },
  {
   "cell_type": "markdown",
   "metadata": {},
   "source": [
    "The next blocks are only to plot the geometry just to see how it looks like."
   ]
  },
  {
   "cell_type": "code",
   "execution_count": 25,
   "metadata": {},
   "outputs": [],
   "source": [
    "x=[]\n",
    "y=[]\n",
    "for v in basevs:\n",
    "    x.append(v.x)\n",
    "    y.append(v.y)"
   ]
  },
  {
   "cell_type": "code",
   "execution_count": 26,
   "metadata": {},
   "outputs": [
    {
     "data": {
      "image/png": "[encoded data removed]",
      "text/plain": [
       "<Figure size 432x288 with 1 Axes>"
      ]
     },
     "metadata": {
      "needs_background": "light"
     },
     "output_type": "display_data"
    }
   ],
   "source": [
    "import matplotlib.pyplot as plt\n",
    "plt.plot(x,y)\n",
    "for v in basevs:\n",
    "    plt.annotate(v.name,(v.x,v.y))"
   ]
  },
  {
   "cell_type": "markdown",
   "metadata": {},
   "source": [
    "The extruded wedges are calculated and included in the dictionary"
   ]
  },
  {
   "cell_type": "code",
   "execution_count": 27,
   "metadata": {},
   "outputs": [],
   "source": [
    "cosd = np.cos(np.radians(wedgeangle))\n",
    "sind = np.sin(np.radians(wedgeangle))\n",
    "for v in basevs:\n",
    "    bmd.add_vertex(v.x, v.y*cosd, v.y*sind, v.name+'+z')\n",
    "    bmd.add_vertex(v.x, v.y*cosd, -v.y*sind, v.name+'-z')"
   ]
  },
  {
   "cell_type": "markdown",
   "metadata": {},
   "source": [
    "Some of the vertexs are duplicated and then they can be \"collapsed\" in only one"
   ]
  },
  {
   "cell_type": "code",
   "execution_count": 28,
   "metadata": {},
   "outputs": [],
   "source": [
    "bmd.reduce_vertex('v0-z','v0+z')\n",
    "bmd.reduce_vertex('v1-z','v1+z')\n",
    "bmd.reduce_vertex('v2-z','v2+z')\n",
    "bmd.reduce_vertex('v3-z','v3+z')"
   ]
  },
  {
   "cell_type": "markdown",
   "metadata": {},
   "source": [
    "For blocks generation"
   ]
  },
  {
   "cell_type": "code",
   "execution_count": 30,
   "metadata": {},
   "outputs": [],
   "source": [
    "def vnamegen(x0y0, x1y0, x1y1, x0y1):\n",
    "    return (x0y0+'-z', x1y0+'-z', x1y1+'-z', x0y1+'-z',\n",
    "            x0y0+'+z', x1y0+'+z', x1y1+'+z', x0y1+'+z')"
   ]
  },
  {
   "cell_type": "code",
   "execution_count": 31,
   "metadata": {},
   "outputs": [],
   "source": [
    "b0 = bmd.add_hexblock(vnamegen('v0', 'v1', 'v8', 'v11'),\n",
    "                      (Nx1, Ny1, 1),\n",
    "                      'b0',\n",
    "                      grading=SimpleGrading(1,1,1))"
   ]
  },
  {
   "cell_type": "code",
   "execution_count": 32,
   "metadata": {},
   "outputs": [],
   "source": [
    "b1 = bmd.add_hexblock(vnamegen('v11', 'v8', 'v9', 'v10'),\n",
    "                      (Nx1, Ny2, 1),\n",
    "                      'b1',\n",
    "                      grading=SimpleGrading(1,1,1))"
   ]
  },
  {
   "cell_type": "code",
   "execution_count": 33,
   "metadata": {},
   "outputs": [],
   "source": [
    "b2 = bmd.add_hexblock(vnamegen('v1', 'v2', 'v7', 'v8'),\n",
    "                      (Nx2, Ny1, 1),\n",
    "                      'b2',\n",
    "                      grading=SimpleGrading(1,1,1))"
   ]
  },
  {
   "cell_type": "code",
   "execution_count": 34,
   "metadata": {},
   "outputs": [],
   "source": [
    "b3 = bmd.add_hexblock(vnamegen('v2', 'v3', 'v4', 'v7'),\n",
    "                      (Nx3, Ny1, 1),\n",
    "                      'b3',\n",
    "                      grading=SimpleGrading(1,1,1))"
   ]
  },
  {
   "cell_type": "code",
   "execution_count": 37,
   "metadata": {},
   "outputs": [],
   "source": [
    "b4 = bmd.add_hexblock(vnamegen('v7', 'v4', 'v5', 'v6'),\n",
    "                      (Nx3, Ny2, 1),\n",
    "                      'b4',\n",
    "                      grading=SimpleGrading(1,1,1))"
   ]
  },
  {
   "cell_type": "markdown",
   "metadata": {},
   "source": [
    "For boundaries generation"
   ]
  },
  {
   "cell_type": "code",
   "execution_count": 39,
   "metadata": {},
   "outputs": [
    {
     "data": {
      "text/plain": [
       "<ofblockmeshdicthelper.Boundary at 0x7fcf143cdf50>"
      ]
     },
     "execution_count": 39,
     "metadata": {},
     "output_type": "execute_result"
    }
   ],
   "source": [
    "bmd.add_boundary('wedge', 'front',\n",
    "                 [\n",
    "                     b0.face('t'),\n",
    "                     b1.face('t'),\n",
    "                     b2.face('t'),\n",
    "                     b3.face('t'),\n",
    "                     b4.face('t'),\n",
    "                 ]\n",
    "                )\n",
    "bmd.add_boundary('wedge', 'back', \n",
    "                 [\n",
    "                     b0.face('b'),\n",
    "                     b1.face('b'),\n",
    "                     b2.face('b'),\n",
    "                     b3.face('b'),\n",
    "                     b4.face('b'),\n",
    "                 ]\n",
    "                )\n",
    "bmd.add_boundary('wall', 'wall', \n",
    "                 [\n",
    "                     b1.face('n'),\n",
    "                     b1.face('e'),\n",
    "                     b2.face('n'),\n",
    "                     b4.face('w'),\n",
    "                     b4.face('n'),\n",
    "                 ]\n",
    "                )\n",
    "bmd.add_boundary('patch', 'inlet', \n",
    "                 [\n",
    "                     b0.face('w'),\n",
    "                     b1.face('w'),\n",
    "                 ]\n",
    "                )\n",
    "bmd.add_boundary('patch', 'outlet', \n",
    "                 [\n",
    "                     b3.face('e'),\n",
    "                     b4.face('e'),\n",
    "                 ]\n",
    "                )\n",
    "bmd.add_boundary('empty', 'axis', \n",
    "                 [\n",
    "                     b0.face('s'),\n",
    "                     b2.face('s'),\n",
    "                     b3.face('s'),\n",
    "                 ]\n",
    "                )"
   ]
  },
  {
   "cell_type": "markdown",
   "metadata": {},
   "source": [
    "Vertex are labelled"
   ]
  },
  {
   "cell_type": "code",
   "execution_count": 40,
   "metadata": {},
   "outputs": [],
   "source": [
    "bmd.assign_vertexid()"
   ]
  },
  {
   "cell_type": "markdown",
   "metadata": {},
   "source": [
    "And finally the dictionary is printed and saved to a file"
   ]
  },
  {
   "cell_type": "code",
   "execution_count": 18,
   "metadata": {},
   "outputs": [
    {
     "name": "stdout",
     "output_type": "stream",
     "text": [
      "/*--------------------------------*- C++ -*----------------------------------*\\\n",
      "| =========                 |                                                 |\n",
      "| \\\\      /  F ield         | OpenFOAM: The Open Source CFD Toolbox           |\n",
      "|  \\\\    /   O peration     | Version:  2.3.0                                 |\n",
      "|   \\\\  /    A nd           | Web:      www.OpenFOAM.org                      |\n",
      "|    \\\\/     M anipulation  |                                                 |\n",
      "\\*---------------------------------------------------------------------------*/\n",
      "FoamFile\n",
      "{\n",
      "    version     2.0;\n",
      "    format      ascii;\n",
      "    class       dictionary;\n",
      "    object      blockMeshDict;\n",
      "}\n",
      "// * * * * * * * * * * * * * * * * * * * * * * * * * * * * * * * * * * * * * //\n",
      "\n",
      "convertToMeters 0.001;\n",
      "\n",
      "vertices\n",
      "(\n",
      "    (                  0   9.96194698091746 -0.871557427476582 )  // 0 v10-z\n",
      "    (                 70   9.96194698091746 -0.871557427476582 )  // 1 v9-z\n",
      "    (               72.5   9.96194698091746 -0.871557427476582 )  // 2 v6-z\n",
      "    (              122.5   9.96194698091746 -0.871557427476582 )  // 3 v5-z\n",
      "    (                  0   4.98097349045873 -0.435778713738291 )  // 4 v11-z\n",
      "    (                 70   4.98097349045873 -0.435778713738291 )  // 5 v8-z\n",
      "    (               72.5   4.98097349045873 -0.435778713738291 )  // 6 v7-z\n",
      "    (              122.5   4.98097349045873 -0.435778713738291 )  // 7 v4-z\n",
      "    (                  0                  0                  0 )  // 8 v0-z : v0+z v0-z\n",
      "    (                 70                  0                  0 )  // 9 v1-z : v1+z v1-z\n",
      "    (               72.5                  0                  0 )  // 10 v2-z : v2+z v2-z\n",
      "    (              122.5                  0                  0 )  // 11 v3-z : v3-z v3+z\n",
      "    (                  0   4.98097349045873  0.435778713738291 )  // 12 v11+z\n",
      "    (                 70   4.98097349045873  0.435778713738291 )  // 13 v8+z\n",
      "    (               72.5   4.98097349045873  0.435778713738291 )  // 14 v7+z\n",
      "    (              122.5   4.98097349045873  0.435778713738291 )  // 15 v4+z\n",
      "    (                  0   9.96194698091746  0.871557427476582 )  // 16 v10+z\n",
      "    (                 70   9.96194698091746  0.871557427476582 )  // 17 v9+z\n",
      "    (               72.5   9.96194698091746  0.871557427476582 )  // 18 v6+z\n",
      "    (              122.5   9.96194698091746  0.871557427476582 )  // 19 v5+z\n",
      ");\n",
      "\n",
      "edges\n",
      "(\n",
      ");\n",
      "\n",
      "blocks\n",
      "(\n",
      "    hex (8 9 5 4 8 9 13 12) b0 (280 20 1) simpleGrading (1 1 1)  // b0 (v0-z v1-z v8-z v11-z v0+z v1+z v8+z v11+z)\n",
      "    hex (4 5 1 0 12 13 17 16) b1 (280 20 1) simpleGrading (1 1 1)  // b1 (v11-z v8-z v9-z v10-z v11+z v8+z v9+z v10+z)\n",
      "    hex (9 10 6 5 9 10 14 13) b2 (10 20 1) simpleGrading (1 1 1)  // b2 (v1-z v2-z v7-z v8-z v1+z v2+z v7+z v8+z)\n",
      "    hex (10 11 7 6 10 11 15 14) b3 (200 20 1) simpleGrading (1 1 1)  // b3 (v2-z v3-z v4-z v7-z v2+z v3+z v4+z v7+z)\n",
      "    hex (6 7 3 2 14 15 19 18) b4 (200 20 1) simpleGrading (1 1 1)  // b4 (v7-z v4-z v5-z v6-z v7+z v4+z v5+z v6+z)\n",
      ");\n",
      "\n",
      "boundary\n",
      "(\n",
      "    front\n",
      "    {\n",
      "        type wedge;\n",
      "        faces\n",
      "        (\n",
      "            (8 9 13 12)  // f-b0-t (v0+z v1+z v8+z v11+z)\n",
      "            (12 13 17 16)  // f-b1-t (v11+z v8+z v9+z v10+z)\n",
      "            (9 10 14 13)  // f-b2-t (v1+z v2+z v7+z v8+z)\n",
      "            (10 11 15 14)  // f-b3-t (v2+z v3+z v4+z v7+z)\n",
      "            (14 15 19 18)  // f-b4-t (v7+z v4+z v5+z v6+z)\n",
      "        );\n",
      "    }\n",
      "    back\n",
      "    {\n",
      "        type wedge;\n",
      "        faces\n",
      "        (\n",
      "            (8 4 5 9)  // f-b0-b (v0-z v11-z v8-z v1-z)\n",
      "            (4 0 1 5)  // f-b1-b (v11-z v10-z v9-z v8-z)\n",
      "            (9 5 6 10)  // f-b2-b (v1-z v8-z v7-z v2-z)\n",
      "            (10 6 7 11)  // f-b3-b (v2-z v7-z v4-z v3-z)\n",
      "            (6 2 3 7)  // f-b4-b (v7-z v6-z v5-z v4-z)\n",
      "        );\n",
      "    }\n",
      "    wall\n",
      "    {\n",
      "        type wall;\n",
      "        faces\n",
      "        (\n",
      "            (1 0 16 17)  // f-b1-n (v9-z v10-z v10+z v9+z)\n",
      "            (5 1 17 13)  // f-b1-n (v8-z v9-z v9+z v8+z)\n",
      "            (6 5 13 14)  // f-b2-n (v7-z v8-z v8+z v7+z)\n",
      "            (6 14 18 2)  // f-b4-w (v7-z v7+z v6+z v6-z)\n",
      "            (3 2 18 19)  // f-b4-n (v5-z v6-z v6+z v5+z)\n",
      "        );\n",
      "    }\n",
      "    inlet\n",
      "    {\n",
      "        type patch;\n",
      "        faces\n",
      "        (\n",
      "            (8 8 12 4)  // f-b0-w (v0-z v0+z v11+z v11-z)\n",
      "            (4 12 16 0)  // f-b1-w (v11-z v11+z v10+z v10-z)\n",
      "        );\n",
      "    }\n",
      "    outlet\n",
      "    {\n",
      "        type patch;\n",
      "        faces\n",
      "        (\n",
      "            (11 7 15 11)  // f-b3-n (v3-z v4-z v4+z v3+z)\n",
      "            (7 3 19 15)  // f-b4-n (v4-z v5-z v5+z v4+z)\n",
      "        );\n",
      "    }\n",
      "    axis\n",
      "    {\n",
      "        type empty;\n",
      "        faces\n",
      "        (\n",
      "            (8 9 9 8)  // f-b0-s (v0-z v1-z v1+z v0+z)\n",
      "            (9 10 10 9)  // f-b2-s (v1-z v2-z v2+z v1+z)\n",
      "            (10 11 11 10)  // f-b3-s (v2-z v3-z v3+z v2+z)\n",
      "        );\n",
      "    }\n",
      ");\n",
      "\n",
      "mergePatchPairs\n",
      "(\n",
      ");\n",
      "\n",
      "// ************************************************************************* //\n",
      "\n"
     ]
    }
   ],
   "source": [
    "print(bmd.format())\n",
    "print(bmd.format(),file=open('./blockMeshDict','w'))"
   ]
  },
  {
   "cell_type": "code",
   "execution_count": null,
   "metadata": {},
   "outputs": [],
   "source": []
  }
 ],
 "metadata": {
  "kernelspec": {
   "display_name": "Python 3",
   "language": "python",
   "name": "python3"
  },
  "language_info": {
   "codemirror_mode": {
    "name": "ipython",
    "version": 3
   },
   "file_extension": ".py",
   "mimetype": "text/x-python",
   "name": "python",
   "nbconvert_exporter": "python",
   "pygments_lexer": "ipython3",
   "version": "3.7.4"
  }
 },
 "nbformat": 4,
 "nbformat_minor": 4
}
